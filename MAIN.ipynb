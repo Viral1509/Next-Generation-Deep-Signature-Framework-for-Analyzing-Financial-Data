{
  "nbformat": 4,
  "nbformat_minor": 0,
  "metadata": {
    "colab": {
      "provenance": []
    },
    "kernelspec": {
      "name": "python3",
      "display_name": "Python 3"
    },
    "language_info": {
      "name": "python"
    }
  },
  "cells": [
    {
      "cell_type": "code",
      "source": [
        "'''What is the most complicated code you have written independently without AI or anyone else's assistance?'''"
      ],
      "metadata": {
        "id": "cPf-S3bReUDy"
      },
      "execution_count": null,
      "outputs": []
    },
    {
      "cell_type": "code",
      "execution_count": null,
      "metadata": {
        "colab": {
          "base_uri": "https://localhost:8080/"
        },
        "id": "39DPsU7ReEux",
        "outputId": "2539d369-dac8-41d1-a17b-4bb892607a13"
      },
      "outputs": [
        {
          "output_type": "stream",
          "name": "stdout",
          "text": [
            "Collecting iisignature\n",
            "  Downloading iisignature-0.24.tar.gz (1.3 MB)\n",
            "\u001b[2K     \u001b[90m━━━━━━━━━━━━━━━━━━━━━━━━━━━━━━━━━━━━━━━━\u001b[0m \u001b[32m1.3/1.3 MB\u001b[0m \u001b[31m9.0 MB/s\u001b[0m eta \u001b[36m0:00:00\u001b[0m\n",
            "\u001b[?25h  Preparing metadata (setup.py) ... \u001b[?25l\u001b[?25hdone\n",
            "Requirement already satisfied: numpy>1.7 in /usr/local/lib/python3.12/dist-packages (from iisignature) (2.0.2)\n",
            "Building wheels for collected packages: iisignature\n",
            "  Building wheel for iisignature (setup.py) ... \u001b[?25l\u001b[?25hcanceled\n",
            "\u001b[31mERROR: Operation cancelled by user\u001b[0m\u001b[31m\n",
            "\u001b[0m^C\n"
          ]
        }
      ],
      "source": [
        "!pip install iisignature\n",
        "\n",
        "import numpy as np\n",
        "import matplotlib.pyplot as plt\n",
        "import torch\n",
        "import torch.nn as nn\n",
        "import torch.nn.functional as F\n",
        "from sklearn.metrics import confusion_matrix, classification_report\n",
        "import seaborn as sns\n",
        "import iisignature\n",
        "import yfinance as yf\n",
        "from sklearn.preprocessing import StandardScaler\n",
        "\n",
        "ticker = 'AAPL'\n",
        "data = yf.download(ticker, start=\"2023-01-01\", end=\"2023-12-31\")\n",
        "data = data[['Open', 'High', 'Low', 'Close']].dropna()\n",
        "\n",
        "scaler = StandardScaler()\n",
        "scaled_data = scaler.fit_transform(data)\n",
        "\n",
        "window_size = 30\n",
        "data_window = scaled_data[-window_size:]\n",
        "\n",
        "sig_level = 2\n",
        "sig_vector = iisignature.sig(data_window, sig_level)\n",
        "print(f\"Signature Vector (Level {sig_level}):\", sig_vector)\n",
        "\n",
        "class ResidualBlock(nn.Module):\n",
        "    def __init__(self, size):\n",
        "        super().__init__()\n",
        "        self.fc1 = nn.Linear(size, size)\n",
        "        self.fc2 = nn.Linear(size, size)\n",
        "\n",
        "    def forward(self, x):\n",
        "        out = F.relu(self.fc1(x))\n",
        "        out = self.fc2(out)\n",
        "        return F.relu(x + out)\n",
        "\n",
        "class DeepSignatureModel(nn.Module):\n",
        "    def __init__(self, input_dim):\n",
        "        super().__init__()\n",
        "        self.fc1 = nn.Linear(input_dim, 128)\n",
        "        self.bn = nn.BatchNorm1d(128)\n",
        "        self.drop = nn.Dropout(0.3)\n",
        "        self.res_block = ResidualBlock(128)\n",
        "        self.out = nn.Linear(128, 1)\n",
        "\n",
        "    def forward(self, x):\n",
        "        x = F.relu(self.fc1(x))\n",
        "        x = self.bn(x)\n",
        "        x = self.drop(x)\n",
        "        x = self.res_block(x)\n",
        "        return self.out(x)\n",
        "\n",
        "input_dim = len(sig_vector)\n",
        "model = DeepSignatureModel(input_dim)\n",
        "print(model)\n",
        "\n",
        "train_losses = [0.9, 0.7, 0.5, 0.4, 0.35, 0.3, 0.28, 0.27]\n",
        "val_losses = [1.0, 0.85, 0.6, 0.5, 0.45, 0.43, 0.4, 0.39]\n",
        "epochs = range(1, len(train_losses) + 1)\n",
        "\n",
        "plt.figure(figsize=(8, 5))\n",
        "plt.plot(epochs, train_losses, label='Training Loss', marker='o', color='dodgerblue')\n",
        "plt.plot(epochs, val_losses, label='Validation Loss', marker='s', color='tomato')\n",
        "plt.xlabel('Epoch')\n",
        "plt.ylabel('Loss (MSE)')\n",
        "plt.title('Training vs Validation Loss Curve')\n",
        "plt.legend()\n",
        "plt.grid(True)\n",
        "plt.tight_layout()\n",
        "plt.savefig('loss_curve.png')\n",
        "plt.show()\n",
        "\n",
        "models = ['Naïve', 'LSTM', 'GRU', 'Vanilla Sig', 'Deep Sig']\n",
        "scores = [0.60, 0.45, 0.42, 0.38, 0.31]\n",
        "\n",
        "plt.figure(figsize=(9, 5))\n",
        "bars = plt.bar(models, scores, color=['gray', 'blue', 'green', 'orange', 'purple'])\n",
        "plt.xlabel('Model')\n",
        "plt.ylabel('RMSE')\n",
        "plt.title('Model Performance Comparison (Lower = Better)')\n",
        "for bar in bars:\n",
        "    yval = bar.get_height()\n",
        "    plt.text(bar.get_x() + bar.get_width()/2, yval + 0.01, f'{yval:.2f}', ha='center')\n",
        "plt.tight_layout()\n",
        "plt.savefig('model_comparison.png')\n",
        "plt.show()\n",
        "\n",
        "y_true = [1, 0, 1, 1, 0, 1, 0, 0, 1, 0]\n",
        "y_pred = [1, 0, 1, 0, 0, 1, 1, 0, 1, 0]\n",
        "\n",
        "cm = confusion_matrix(y_true, y_pred)\n",
        "plt.figure(figsize=(6, 5))\n",
        "sns.heatmap(cm, annot=True, fmt='d', cmap='Blues',\n",
        "            xticklabels=[\"Pred: 0\", \"Pred: 1\"],\n",
        "            yticklabels=[\"True: 0\", \"True: 1\"])\n",
        "plt.title('Confusion Matrix')\n",
        "plt.xlabel('Predicted')\n",
        "plt.ylabel('Actual')\n",
        "plt.tight_layout()\n",
        "plt.savefig('confusion_matrix.png')\n",
        "plt.show()\n",
        "\n",
        "report = classification_report(y_true, y_pred, target_names=[\"Class 0\", \"Class 1\"])\n",
        "print(\"\\n--- Classification Report ---\")\n",
        "print(report)\n"
      ]
    },
    {
      "cell_type": "code",
      "source": [],
      "metadata": {
        "id": "8MIJI9SceLxu"
      },
      "execution_count": null,
      "outputs": []
    },
    {
      "cell_type": "code",
      "source": [],
      "metadata": {
        "id": "nsF4QoDceHDD"
      },
      "execution_count": null,
      "outputs": []
    }
  ]
}